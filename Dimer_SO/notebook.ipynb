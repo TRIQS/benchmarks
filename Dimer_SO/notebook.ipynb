{
 "cells": [
  {
   "cell_type": "markdown",
   "metadata": {
    "deletable": true,
    "editable": true,
    "run_control": {
     "frozen": false,
     "read_only": false
    }
   },
   "source": [
    "Dimer with Density-Density interaction and Spin-Orbit Coupling\n",
    "=======\n",
    "\n",
    "We calculate the Green function of a dimer coupled with Kanamori interaction and a coupling to discrete bath states. The spin block-structure is broken by a spin-orbit term in the local Hamiltonian.\n",
    "\n",
    "The non-interacting Hamiltonian is most conveniently expressed using a matrix representation\n",
    "\n",
    "$$\n",
    "\\hat{h} =\n",
    "\\begin{pmatrix}\n",
    "\\hat{h}_{0} & \\hat{h}_{\\rm coup} \\\\\n",
    "\\hat{h}_{\\rm coup} & \\hat{h}_{\\rm bath}  \\\\\n",
    "\\end{pmatrix}=\n",
    "\\begin{pmatrix}\n",
    "\\begin{pmatrix}\n",
    "\\epsilon_0 -\\mu & -t - ia & 0 & -ia\\\\\n",
    "-t + ia& \\epsilon_1 -\\mu & ia & 0\\\\\n",
    "0 & - ia & \\epsilon_0 -\\mu & -t - ia\\\\\n",
    "ia & 0 & -t + ia& \\epsilon_1 -\\mu\n",
    "\\end{pmatrix} & \n",
    "\\begin{pmatrix}\n",
    "1 & 0 & 0 & 0\\\\\n",
    "0 & 1 & 0 & 0\\\\\n",
    "0 & 0 & 1 & 0\\\\\n",
    "0 & 0 & 0 & 1\n",
    "\\end{pmatrix}\n",
    "\\\\\n",
    "\\begin{pmatrix}\n",
    "1 & 0 & 0 & 0\\\\\n",
    "0 & 1 & 0 & 0\\\\\n",
    "0 & 0 & 1 & 0\\\\\n",
    "0 & 0 & 0 & 1\n",
    "\\end{pmatrix} & \n",
    "\\begin{pmatrix}\n",
    "\\epsilon_{0,{\\rm bath}} & -t_{\\rm bath} & 0 & 0 \\\\\n",
    "-t_{\\rm bath} & \\epsilon_{1,{\\rm bath}} & 0 & 0 \\\\\n",
    "0 & 0 & \\epsilon_{0,{\\rm bath}} & -t_{\\rm bath}\\\\\n",
    "0 & 0 & -t_{\\rm bath} & \\epsilon_{1,{\\rm bath}}\n",
    "\\end{pmatrix}\n",
    "\\end{pmatrix}\n",
    "$$\n",
    "\n",
    "The impurity interaction is of the density-density type, and reads\n",
    "\n",
    "$$h_{\\rm int} = \\sum_{i,j} U n_{\\uparrow,i} n_{\\downarrow,j} + \\sum_{\\sigma,i\\neq j} U' n_{\\sigma,i} n_{\\sigma,j}$$\n",
    "   \n",
    "The parameters are defined below."
   ]
  },
  {
   "cell_type": "code",
   "execution_count": null,
   "metadata": {
    "collapsed": false,
    "deletable": true,
    "editable": true,
    "run_control": {
     "frozen": false,
     "read_only": false
    }
   },
   "outputs": [],
   "source": [
    "# %load model.py\n",
    "import sys, os\n",
    "sys.path.append(os.getcwd() + '/../common')\n",
    "from util import *\n",
    "\n",
    "from pytriqs.gf import Gf, MeshImFreq, iOmega_n, inverse\n",
    "from pytriqs.operators import c, c_dag, n\n",
    "from pytriqs.operators.util.hamiltonians import h_int_kanamori\n",
    "from itertools import product\n",
    "from numpy import matrix, array, diag\n",
    "\n",
    "# ==== System Parameters ====\n",
    "beta = 5.                       # Inverse temperature\n",
    "mu = 0.25                       # Chemical potential\n",
    "eps = array([0.0, 0.1, 0.0, 0.1])   # Impurity site energies\n",
    "t = 1.                          # Hopping between impurity sites\n",
    "a = 1j                          # Spin-orbit coupling\n",
    "\n",
    "eps_bath = array([0.2, 0.15, 0.2, 0.15])   # Bath site energies\n",
    "t_bath = 0.1                    # Hopping between bath sites\n",
    "\n",
    "U = 1.                          # Density-density interaction for opposite spins\n",
    "Up = 0.3                        # Density-density interaction for equal spins\n",
    "\n",
    "up_0, up_1, dn_0, dn_1 = 0, 1, 2, 3\n",
    "orb_names  = [up_0, up_1, dn_0, dn_1]\n",
    "\n",
    "# Non-interacting impurity hamiltonian in matrix representation\n",
    "h_0_mat = diag(eps - mu) - matrix([[0,    t+a,  0,    a  ],\n",
    "                                   [t-a,  0,   -a,    0  ],\n",
    "                                   [0,    a,    0,    t+a],\n",
    "                                   [-a,    0,    t-a,  0  ]])\n",
    "\n",
    "# Bath hamiltonian in matrix representation\n",
    "h_bath_mat = diag(eps_bath) - matrix([[0,       t_bath, 0,      0     ],\n",
    "                                      [t_bath,  0,      0,      0     ],\n",
    "                                      [0,       0,      0,      t_bath],\n",
    "                                      [0,       0,      t_bath, 0     ]])\n",
    "\n",
    "# Coupling matrix\n",
    "V_mat = matrix([[1., 0., 0, 0],\n",
    "                [0., 1., 0, 0],\n",
    "                [0., 0., 1, 0],\n",
    "                [0., 0., 0, 1]])\n",
    "\n",
    "# ==== Local Hamiltonian ====\n",
    "c_dag_vec = matrix([[c_dag('bl',o) for o in orb_names]])\n",
    "c_vec = matrix([[c('bl',o)] for o in orb_names])\n",
    "\n",
    "h_0 = (c_dag_vec * h_0_mat * c_vec)[0,0]\n",
    "\n",
    "h_int = U * n('bl', up_0) * n('bl', dn_0) + \\\n",
    "        U * n('bl', up_1) * n('bl', dn_1) + \\\n",
    "        U * n('bl', up_0) * n('bl', dn_1) + \\\n",
    "        U * n('bl', up_1) * n('bl', dn_0) + \\\n",
    "        Up * n('bl', up_0) * n('bl', up_1) + \\\n",
    "        Up * n('bl', dn_0) * n('bl', dn_1)\n",
    "\n",
    "h_loc = h_0 + h_int\n",
    "\n",
    "# ==== Bath & Coupling hamiltonian ====\n",
    "orb_bath_names = ['b_' + str(o) for o in orb_names]\n",
    "c_dag_bath_vec = matrix([[c_dag('bl', o) for o in orb_bath_names]])\n",
    "c_bath_vec =     matrix([[c('bl', o)] for o in orb_bath_names])\n",
    "\n",
    "h_bath = (c_dag_bath_vec * h_bath_mat * c_bath_vec)[0,0]\n",
    "h_coup = (c_dag_vec * V_mat * c_bath_vec + c_dag_bath_vec * V_mat * c_vec)[0,0] # FIXME Adjoint\n",
    "\n",
    "# ==== Total impurity hamiltonian ====\n",
    "h_imp = h_loc + h_coup + h_bath\n",
    "\n",
    "# ==== Green function structure ====\n",
    "gf_struct = [ ['bl', orb_names] ]\n",
    "\n",
    "# ==== Hybridization Function ====\n",
    "n_iw = int(10 * beta)\n",
    "iw_mesh = MeshImFreq(beta, 'Fermion', n_iw)\n",
    "Delta = BlockGf(mesh=iw_mesh, gf_struct=gf_struct)\n",
    "Delta << inverse(iOmega_n - V_mat * h_bath_mat * V_mat);\n",
    "\n",
    "# ==== Non-Interacting Impurity Green function  ====\n",
    "G0_iw = Delta.copy()\n",
    "G0_iw['bl'] << inverse(iOmega_n - h_0_mat - Delta['bl'])\n"
   ]
  },
  {
   "cell_type": "markdown",
   "metadata": {
    "deletable": true,
    "editable": true,
    "run_control": {
     "frozen": false,
     "read_only": false
    }
   },
   "source": [
    "Results\n",
    "===="
   ]
  },
  {
   "cell_type": "code",
   "execution_count": 2,
   "metadata": {
    "collapsed": true,
    "deletable": true,
    "editable": true,
    "run_control": {
     "frozen": false,
     "read_only": false
    }
   },
   "outputs": [],
   "source": [
    "from pytriqs.plot.mpl_interface import oplot, plt\n",
    "%matplotlib inline"
   ]
  },
  {
   "cell_type": "code",
   "execution_count": 3,
   "metadata": {
    "collapsed": false,
    "deletable": true,
    "editable": true,
    "run_control": {
     "frozen": false,
     "read_only": false
    }
   },
   "outputs": [
    {
     "data": {
      "image/png": "[encoded data removed]",
      "text/plain": [
       "<Figure size 720x432 with 1 Axes>"
      ]
     },
     "metadata": {},
     "output_type": "display_data"
    },
    {
     "data": {
      "image/png": "[encoded data removed]",
      "text/plain": [
       "<Figure size 720x432 with 1 Axes>"
      ]
     },
     "metadata": {},
     "output_type": "display_data"
    }
   ],
   "source": [
    "# %load ../common/plot.py\n",
    "import sys, os\n",
    "sys.path.append(os.getcwd() + \"/..\")\n",
    "sys.path.append(os.getcwd() + \"/../../common\")\n",
    "from model import *\n",
    "\n",
    "from pytriqs.archive import HDFArchive\n",
    "from pytriqs.plot.mpl_interface import oplot, plt\n",
    "from glob import glob\n",
    "from os.path import basename\n",
    "\n",
    "# === Load Green function for every solver and calculate self-energy\n",
    "\n",
    "solver_lst = [ basename(f).strip('.h5') for f in glob('results/*.h5') ]\n",
    "G, Sigma = {}, {}\n",
    "\n",
    "for solver in solver_lst:\n",
    "    dat = HDFArchive('results/' + solver + '.h5','r')\n",
    "    G[solver] = dat['G']\n",
    "    Sigma[solver] = G0_iw.copy()\n",
    "    Sigma[solver] << inverse(G0_iw) - inverse(G[solver])\n",
    "\n",
    "# === For every block and solver, plot Green function and Self energy\n",
    "\n",
    "block_lst = list(G[solver_lst[0]].indices)\n",
    "n_blocks = len(block_lst)\n",
    "\n",
    "for g, name in [[G, 'G'], [Sigma, '$\\Sigma$']]:\n",
    "\n",
    "    plt.subplots(n_blocks,1,figsize=(10,6*n_blocks))\n",
    "\n",
    "    for i, block in enumerate(block_lst,1):\n",
    "        fig = plt.subplot(n_blocks,1,i)\n",
    "        fig.set_title(name + \"[\" + block + \"]\")\n",
    "        for solver in solver_lst:\n",
    "            oplot(g[solver][block][0,0], name = name + \"[0,0]_%s\" % solver)\n",
    "        plt.xlabel(\"$\\omega_n$\")\n",
    "        plt.ylabel(name + \"[\" + block + \"]$(i\\omega_n)$\")\n",
    "\n",
    "    plt.tight_layout()\n",
    "    plt.show()\n"
   ]
  },
  {
   "cell_type": "markdown",
   "metadata": {
    "deletable": true,
    "editable": true,
    "run_control": {
     "frozen": false,
     "read_only": false
    }
   },
   "source": [
    "Deviations\n",
    "======\n",
    "\n",
    "We present a table containing deviations between the different solvers measured via\n",
    "\n",
    "$$||G_{\\rm Solver_1} - G_{\\rm Solver_2}||_\\infty$$"
   ]
  },
  {
   "cell_type": "code",
   "execution_count": 4,
   "metadata": {
    "collapsed": false,
    "deletable": true,
    "editable": true,
    "run_control": {
     "frozen": false,
     "read_only": false
    }
   },
   "outputs": [
    {
     "name": "stdout",
     "output_type": "stream",
     "text": [
      "\t\t    Deviations for Block bl\n",
      "\t\t -----------------------------------\n",
      "                         ctint           pyed\n",
      "          ctint       0.00E+00       1.35E-04\n",
      "           pyed       1.35E-04       0.00E+00\n",
      "\n",
      "\n",
      "\n"
     ]
    }
   ],
   "source": [
    "import numpy as np\n",
    "\n",
    "for block in block_lst:\n",
    "    deviations = [[ np.amax(np.abs(G[s1][block].data - G[s2][block].data)) for s1 in solver_lst ] \\\n",
    "                    for s2 in solver_lst ]\n",
    "    \n",
    "    print \"\\t\\t    Deviations for Block \" + block\n",
    "    print \"\\t\\t -----------------------------------\"\n",
    "\n",
    "    row_format =\"{:>15}\" * (len(solver_lst) + 1)\n",
    "    print row_format.format(\"\", *solver_lst)\n",
    "    row_format =\"{:>15}\" + \"{:>15.2E}\" * len(solver_lst)\n",
    "    for solver, row in zip(solver_lst, deviations):\n",
    "        print row_format.format(solver, *row)\n",
    "        \n",
    "    print \"\\n\\n\""
   ]
  }
 ],
 "metadata": {
  "kernelspec": {
   "display_name": "Python 2",
   "language": "python",
   "name": "python2"
  },
  "language_info": {
   "codemirror_mode": {
    "name": "ipython",
    "version": 2
   },
   "file_extension": ".py",
   "mimetype": "text/x-python",
   "name": "python",
   "nbconvert_exporter": "python",
   "pygments_lexer": "ipython2",
   "version": "2.7.15"
  },
  "latex_envs": {
   "LaTeX_envs_menu_present": true,
   "autocomplete": true,
   "bibliofile": "biblio.bib",
   "cite_by": "apalike",
   "current_citInitial": 1,
   "eqLabelWithNumbers": true,
   "eqNumInitial": 1,
   "hotkeys": {
    "equation": "Ctrl-E",
    "itemize": "Ctrl-I"
   },
   "labels_anchors": false,
   "latex_user_defs": false,
   "report_style_numbering": false,
   "user_envs_cfg": false
  }
 },
 "nbformat": 4,
 "nbformat_minor": 2
}
