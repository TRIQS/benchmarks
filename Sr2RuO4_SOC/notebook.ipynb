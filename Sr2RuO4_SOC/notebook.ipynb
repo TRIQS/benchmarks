{
 "cells": [
  {
   "cell_type": "markdown",
   "metadata": {},
   "source": [
    "SrRuO4 with Spin-Orbit Coupling\n",
    "=================\n",
    "\n",
    "We calculate the Green function of an effective impurity model for SrRuO4 with spin-orbit coupling."
   ]
  },
  {
   "cell_type": "code",
   "execution_count": null,
   "metadata": {},
   "outputs": [],
   "source": [
    "# %load model.py\n",
    "import sys, os\n",
    "sys.path.append(os.getcwd() + '/../common')\n",
    "from util import *\n",
    "\n",
    "from pytriqs.gf import Gf, MeshImFreq, iOmega_n, inverse, MeshBrillouinZone, MeshProduct\n",
    "from pytriqs.lattice import BravaisLattice, BrillouinZone\n",
    "from pytriqs.operators import c, c_dag, n\n",
    "from pytriqs.operators.util import h_int_kanamori, U_matrix_kanamori\n",
    "from itertools import product\n",
    "from numpy import matrix, array, diag, pi\n",
    "import numpy.linalg as linalg\n",
    "\n",
    "from tight_binding_model import *\n",
    "\n",
    "# ==== System Parameters ====\n",
    "beta = 5.                       # Inverse temperature\n",
    "mu = 0.                         # Chemical potential\n",
    "\n",
    "U = 2.3                         # Density-density interaction\n",
    "J = 0.4                         # Hunds coupling\n",
    "SOC = 0.1                       # Spin-orbit coupling\n",
    "\n",
    "n_iw = int(10 * beta)           # The number of positive Matsubara frequencies\n",
    "n_k = 16                        # The number of k-points per dimension\n",
    "\n",
    "spin_names = ['up', 'dn']       # The spins\n",
    "orb_names = [0, 1, 2]           # The orbitals\n",
    "idx_lst = list(range(len(spin_names) * len(orb_names)))\n",
    "gf_struct = [('bl', idx_lst)]\n",
    "\n",
    "TBL = tight_binding_model(lambda_soc=SOC)   # The Tight-Binding Lattice\n",
    "TBL.bz = BrillouinZone(TBL.bl)\n",
    "n_idx = len(idx_lst)\n",
    "\n",
    "\n",
    "# ==== Local Hamiltonian ====\n",
    "c_dag_vec = matrix([[c_dag('bl', idx) for idx in idx_lst]])\n",
    "c_vec =     matrix([[c('bl', idx)] for idx in idx_lst])\n",
    "\n",
    "h_0_mat = TBL._hop[(0,0,0)]\n",
    "h_0 = (c_dag_vec * h_0_mat * c_vec)[0,0]\n",
    "\n",
    "Umat, Upmat = U_matrix_kanamori(len(orb_names), U_int=U, J_hund=J)\n",
    "op_map = { (s,o): ('bl',i) for i, (s,o) in enumerate(product(spin_names, orb_names)) }\n",
    "h_int = h_int_kanamori(spin_names, orb_names, Umat, Upmat, J, off_diag=True, map_operator_structure=op_map)\n",
    "h_loc = h_0 + h_int\n",
    "\n",
    "\n",
    "# ==== Non-Interacting Impurity Green function  ====\n",
    "iw_mesh = MeshImFreq(beta, 'Fermion', n_iw)\n",
    "k_mesh = MeshBrillouinZone(TBL.bz, n_k)\n",
    "k_iw_mesh = MeshProduct(k_mesh, iw_mesh)\n",
    "\n",
    "G0_k_iw = BlockGf(mesh=k_iw_mesh, gf_struct=gf_struct)\n",
    "G0_iw = BlockGf(mesh=iw_mesh, gf_struct=gf_struct)\n",
    "\n",
    "iw_vec = array([iw.value * np.eye(n_idx) for iw in iw_mesh])\n",
    "k_vec = array([k.value for k in k_mesh])\n",
    "e_k_vec = TBL.hopping(k_vec.T / 2. / pi).transpose(2, 0, 1)\n",
    "mu_mat = mu * np.eye(n_idx)\n",
    "\n",
    "G0_k_iw['bl'].data[:] = linalg.inv(iw_vec[None,...] + mu_mat[None,None,...] - e_k_vec[::,None,...])\n",
    "G0_iw['bl'].data[:] = np.sum(G0_k_iw['bl'].data[:], axis=0) / len(k_mesh)\n",
    "\n",
    "\n",
    "# ==== Hybridization Function ====\n",
    "Delta = G0_iw.copy()\n",
    "Delta['bl'] << iOmega_n + mu_mat - h_0_mat - inverse(G0_iw['bl'])\n"
   ]
  },
  {
   "cell_type": "markdown",
   "metadata": {},
   "source": [
    "Results\n",
    "===="
   ]
  },
  {
   "cell_type": "code",
   "execution_count": null,
   "metadata": {
    "collapsed": true
   },
   "outputs": [],
   "source": [
    "from pytriqs.plot.mpl_interface import oplot, plt\n",
    "%matplotlib inline"
   ]
  },
  {
   "cell_type": "code",
   "execution_count": null,
   "metadata": {},
   "outputs": [],
   "source": [
    "# %load ../common/plot.py\n",
    "import sys, os\n",
    "sys.path.append(os.getcwd() + \"/..\")\n",
    "sys.path.append(os.getcwd() + \"/../../common\")\n",
    "from model import *\n",
    "\n",
    "from pytriqs.archive import HDFArchive\n",
    "from pytriqs.plot.mpl_interface import oplot, plt\n",
    "from glob import glob\n",
    "from os.path import basename\n",
    "\n",
    "# === Load Green function for every solver and calculate self-energy\n",
    "\n",
    "solver_lst = [ basename(f).strip('.h5') for f in glob('results/*.h5') ]\n",
    "marker_lst = ['-x', '-+', '-^', '-v', '-<', '->', '-*', '-p']\n",
    "G, Sigma = {}, {}\n",
    "\n",
    "for solver in solver_lst:\n",
    "    dat = HDFArchive('results/' + solver + '.h5','r')\n",
    "    G[solver] = dat['G']\n",
    "    Sigma[solver] = G0_iw.copy()\n",
    "    Sigma[solver] << inverse(G0_iw) - inverse(G[solver])\n",
    "\n",
    "# === For every block and solver, plot Green function and Self energy\n",
    "\n",
    "block_lst = list(G[solver_lst[0]].indices)\n",
    "n_blocks = len(block_lst)\n",
    "\n",
    "for g, name in [[G, 'G'], [Sigma, '$\\Sigma$']]:\n",
    "\n",
    "    plt.subplots(n_blocks,1,figsize=(10,6*n_blocks))\n",
    "\n",
    "    for i, block in enumerate(block_lst,1):\n",
    "        fig = plt.subplot(n_blocks,1,i)\n",
    "        fig.set_title(name + \"[\" + block + \"]\")\n",
    "        for solver in solver_lst:\n",
    "            marker = marker_lst[solver_lst.index(solver)]\n",
    "            oplot(g[solver][block][0,0], marker, name = name + \"[0,0]_%s\" % solver)\n",
    "        plt.xlabel(\"$\\omega_n$\")\n",
    "        plt.ylabel(name + \"[\" + block + \"]$(i\\omega_n)$\")\n",
    "\n",
    "    plt.tight_layout()\n",
    "    plt.show()\n"
   ]
  },
  {
   "cell_type": "markdown",
   "metadata": {},
   "source": [
    "Deviations\n",
    "======\n",
    "\n",
    "We present a table containing deviations between the different solvers measured via\n",
    "\n",
    "$$||G_{\\rm Solver_1} - G_{\\rm Solver_2}||_\\infty$$"
   ]
  },
  {
   "cell_type": "code",
   "execution_count": null,
   "metadata": {},
   "outputs": [],
   "source": [
    "import numpy as np\n",
    "\n",
    "for block in block_lst:\n",
    "    deviations = [[ np.amax(np.abs(G[s1][block].data - G[s2][block].data)) for s1 in solver_lst ] \\\n",
    "                    for s2 in solver_lst ]\n",
    "    \n",
    "    print \"\\t\\t    Deviations for Block \" + block\n",
    "    print \"\\t\\t -----------------------------------\"\n",
    "\n",
    "    row_format =\"{:>15}\" * (len(solver_lst) + 1)\n",
    "    print row_format.format(\"\", *solver_lst)\n",
    "    row_format =\"{:>15}\" + \"{:>15.2E}\" * len(solver_lst)\n",
    "    for solver, row in zip(solver_lst, deviations):\n",
    "        print row_format.format(solver, *row)\n",
    "        \n",
    "    print \"\\n\\n\""
   ]
  }
 ],
 "metadata": {
  "kernelspec": {
   "display_name": "Python 2",
   "language": "python",
   "name": "python2"
  },
  "language_info": {
   "codemirror_mode": {
    "name": "ipython",
    "version": 2
   },
   "file_extension": ".py",
   "mimetype": "text/x-python",
   "name": "python",
   "nbconvert_exporter": "python",
   "pygments_lexer": "ipython2",
   "version": "2.7.13"
  },
  "latex_envs": {
   "LaTeX_envs_menu_present": true,
   "autocomplete": true,
   "bibliofile": "biblio.bib",
   "cite_by": "apalike",
   "current_citInitial": 1,
   "eqLabelWithNumbers": true,
   "eqNumInitial": 1,
   "hotkeys": {
    "equation": "Ctrl-E",
    "itemize": "Ctrl-I"
   },
   "labels_anchors": false,
   "latex_user_defs": false,
   "report_style_numbering": false,
   "user_envs_cfg": false
  }
 },
 "nbformat": 4,
 "nbformat_minor": 2
}
