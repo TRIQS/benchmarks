{
 "cells": [
  {
   "cell_type": "markdown",
   "metadata": {},
   "source": [
    "Dimer with Kanamori interaction\n",
    "=======\n",
    "\n",
    "We calculate the Green function of a dimer coupled with Kanamori interaction and a coupling to discrete bath states.\n",
    "\n",
    "The non-interacting hamiltonian is most conveniently expressed using a matrix representation\n",
    "\n",
    "$$\n",
    "\\hat{h} =\n",
    "\\begin{pmatrix}\n",
    "\\hat{h}_{0} & \\hat{h}_{\\rm coup} \\\\\n",
    "\\hat{h}_{\\rm coup} & \\hat{h}_{\\rm bath}  \\\\\n",
    "\\end{pmatrix}=\n",
    "\\begin{pmatrix}\n",
    "\\begin{pmatrix}\n",
    "\\epsilon_0 -\\mu & -t \\\\\n",
    "-t & \\epsilon_1 -\\mu\n",
    "\\end{pmatrix} & \n",
    "\\begin{pmatrix}\n",
    "1 & 0 \\\\\n",
    "0 & 1\n",
    "\\end{pmatrix}\n",
    "\\\\\n",
    "\\begin{pmatrix}\n",
    "1 & 0 \\\\\n",
    "0 & 1\n",
    "\\end{pmatrix} & \n",
    "\\begin{pmatrix}\n",
    "\\epsilon_{0,{\\rm bath}} & -t_{\\rm bath} \\\\\n",
    "-t_{\\rm bath} & \\epsilon_{1,{\\rm bath}}\n",
    "\\end{pmatrix}\n",
    "\\end{pmatrix}\n",
    "$$\n",
    "\n",
    "The impurity interaction is of the Kanamori-type, and reads\n",
    "\n",
    "$$h_{\\rm int} = \\sum_{i,j} U n_{\\uparrow,i} n_{\\downarrow,j} + \\sum_{\\sigma,i\\neq j} U' n_{\\sigma,i} n_{\\sigma,j}\n",
    "            - \\sum_{i \\neq j} J c^\\dagger_{i \\uparrow} c_{i \\downarrow} c^\\dagger_{j \\downarrow} c_{j \\uparrow}\n",
    "            + \\sum_{i \\neq j} J c^\\dagger_{i \\uparrow} c^\\dagger_{i \\downarrow} c_{j \\downarrow} c_{j \\uparrow}$$\n",
    "   \n",
    "The parameters are defined below."
   ]
  },
  {
   "cell_type": "code",
   "execution_count": 1,
   "metadata": {},
   "outputs": [
    {
     "data": {
      "text/plain": [
       "Greens Function G_dn with mesh Matsubara Freq Mesh of size 320, Domain: Matsubara domain with beta = 16, statistic = 1, positive_only : 0 and target_rank 2: "
      ]
     },
     "execution_count": 1,
     "metadata": {},
     "output_type": "execute_result"
    }
   ],
   "source": [
    "# %load model.py\n",
    "import sys, os\n",
    "sys.path.append(os.getcwd() + '/../common')\n",
    "from util import *\n",
    "\n",
    "from triqs.gf import Gf, MeshImFreq, iOmega_n, inverse\n",
    "from triqs.operators import c, c_dag, n\n",
    "from triqs.operators.util import h_int_kanamori, U_matrix_kanamori\n",
    "from itertools import product\n",
    "from numpy import matrix, array, block, diag, eye\n",
    "from numpy.linalg import inv\n",
    "\n",
    "from math import sqrt\n",
    "\n",
    "# ==== System Parameters ====\n",
    "beta = 16.                      # Inverse temperature\n",
    "mu = 0.0                        # Chemical potential\n",
    "eps = array([0.0, 0.0])         # Impurity site energies\n",
    "t = 0.0                         # Hopping between impurity sites\n",
    "\n",
    "eps_bath = array([-2.3, 2.3])  # Bath site energies\n",
    "t_bath = 0.0                       # Hopping between bath sites\n",
    "\n",
    "U = 2                         # Density-density interaction\n",
    "J = 0.2                       # Hunds coupling\n",
    "\n",
    "spin_names = ['up', 'dn']\n",
    "orb_names  = [0, 1]\n",
    "n_orb = len(orb_names)\n",
    "\n",
    "# Non-interacting impurity hamiltonian in matrix representation\n",
    "h_0_mat = diag(eps - mu) - matrix([[0, t],\n",
    "                                   [t, 0]])\n",
    "\n",
    "# Bath hamiltonian in matrix representation\n",
    "h_bath_mat = diag(eps_bath) - matrix([[0, t_bath],\n",
    "                                      [t_bath, 0]])\n",
    "\n",
    "# Coupling matrix\n",
    "r = 0.5\n",
    "V_mat = 1. / 2. * matrix([[sqrt(1+r) + sqrt(1-r), sqrt(1+r) - sqrt(1-r)],\n",
    "                          [sqrt(1+r) - sqrt(1-r), sqrt(1+r) + sqrt(1-r)]])\n",
    "# V_mat * V_mat.T = a * [[ 1,  r ],\n",
    "#                        [ r,  1 ]]\n",
    "\n",
    "# ==== Local Hamiltonian ====\n",
    "c_dag_vec = { s: matrix([[c_dag(s,o) for o in orb_names]]) for s in spin_names }\n",
    "c_vec =     { s: matrix([[c(s,o)] for o in orb_names]) for s in spin_names }\n",
    "\n",
    "h_0 = sum(c_dag_vec[s] * h_0_mat * c_vec[s] for s in spin_names)[0,0]\n",
    "\n",
    "## h_int_kanamori includes also pair-hopping terms! Not considered in Edelstein Paper\n",
    "#Umat, Upmat = U_matrix_kanamori(n_orb, U_int=U, J_hund=J)\n",
    "#h_int = h_int_kanamori(spin_names, orb_names, Umat, Upmat, J, off_diag=True)\n",
    "h_int = U * (n('up', 0) * n('dn', 0) + n('up', 1) * n('dn', 1)) \\\n",
    "     + (U - 2*J) * (n('up', 0) * n('dn', 1) + n('up', 1) * n('dn', 0)) \\\n",
    "     + (U - 3*J) * (n('up', 0) * n('up', 1) + n('dn', 0) * n('dn', 1)) \\\n",
    "     + J * c_dag('up', 0) * c_dag('dn', 1) * c('dn', 0) * c('up', 1) \\\n",
    "     + J * c_dag('up', 1) * c_dag('dn', 0) * c('dn', 1) * c('up', 0)\n",
    "\n",
    "h_imp = h_0 + h_int\n",
    "\n",
    "# ==== Bath & Coupling hamiltonian ====\n",
    "orb_bath_names = [n_orb + o for o in orb_names]\n",
    "c_dag_bath_vec = { s: matrix([[c_dag(s, o) for o in orb_bath_names]]) for s in spin_names }\n",
    "c_bath_vec =     { s: matrix([[c(s, o)] for o in orb_bath_names]) for s in spin_names }\n",
    "\n",
    "h_bath = sum(c_dag_bath_vec[s] * h_bath_mat * c_bath_vec[s] for s in spin_names)[0,0]\n",
    "h_coup = sum(c_dag_vec[s] * V_mat * c_bath_vec[s] + c_dag_bath_vec[s] * V_mat * c_vec[s] for s in spin_names)[0,0] # FIXME Adjoint\n",
    "\n",
    "# ==== Total impurity hamiltonian ====\n",
    "h_tot = h_imp + h_coup + h_bath\n",
    "\n",
    "# ==== Green function structure ====\n",
    "# gf_struct = [ [s, orb_names] for s in spin_names ]\n",
    "gf_struct = [ [s, n_orb] for s in spin_names ]\n",
    "\n",
    "# ==== Non-Interacting Impurity Green function  ====\n",
    "n_iw = int(10 * beta)\n",
    "#n_tau = 2 * n_iw + 1\n",
    "n_tau = 20\n",
    "iw_mesh = MeshImFreq(beta, 'Fermion', n_iw)\n",
    "tau_mesh = MeshImTime(beta, 'Fermion', n_tau)\n",
    "G0_iw = BlockGf(mesh=iw_mesh, gf_struct=gf_struct)\n",
    "h_tot_mat = block([[h_0_mat, V_mat     ],\n",
    "                   [V_mat.H, h_bath_mat]])\n",
    "for bl, iw in product(spin_names, iw_mesh):\n",
    "    G0_iw[bl][iw] = inv(iw.value * eye(2*n_orb) - h_tot_mat)[:n_orb, :n_orb]\n",
    "\n",
    "# ==== Hybridization Function ====\n",
    "Delta = G0_iw.copy()\n",
    "Delta['up'] << iOmega_n - h_0_mat - inverse(G0_iw['up'])\n",
    "Delta['dn'] << iOmega_n - h_0_mat - inverse(G0_iw['dn'])\n"
   ]
  },
  {
   "cell_type": "code",
   "execution_count": 2,
   "metadata": {},
   "outputs": [
    {
     "name": "stderr",
     "output_type": "stream",
     "text": [
      "Starting run with 1 MPI rank(s) at : 2020-12-21 17:27:18.898816\n"
     ]
    }
   ],
   "source": [
    "import sys, os\n",
    "sys.path.append(os.getcwd() + \"/..\")\n",
    "sys.path.append(os.getcwd() + \"/../../common\")\n",
    "from model import *\n",
    "\n",
    "from h5 import HDFArchive\n",
    "from triqs.plot.mpl_interface import oplot, plt\n",
    "from glob import glob\n",
    "from os.path import basename\n",
    "\n",
    "from triqs.plot.mpl_interface import oplot, plt\n",
    "%matplotlib inline\n",
    "import matplotlib\n",
    "matplotlib.rcParams['figure.figsize'] = (12, 8)\n",
    "#matplotlib.rc('text', usetex=True)\n",
    "\n",
    "from triqs.atom_diag import *\n",
    "from triqs.utility.redirect import *\n",
    "\n",
    "from inchworm.ad_tools import *\n",
    "\n",
    "import numpy as np"
   ]
  },
  {
   "cell_type": "code",
   "execution_count": 3,
   "metadata": {},
   "outputs": [],
   "source": [
    "fop_imp = [(s,o) for s,o in product(spin_names, orb_names)]\n",
    "fop_bath = [(s,o) for s,o, in product(spin_names, orb_bath_names)]\n",
    "fop_tot = fop_imp + fop_bath\n",
    "\n",
    "eff_hyb = create_effective_hyb(gf_struct)\n",
    "\n",
    "ad_imp = AtomDiag(h_imp, eff_hyb, fop_imp)\n",
    "ad_bath = AtomDiag(h_bath, fop_bath)\n",
    "ad_tot = AtomDiag(h_tot, fop_tot)"
   ]
  },
  {
   "cell_type": "code",
   "execution_count": 4,
   "metadata": {},
   "outputs": [],
   "source": [
    "from triqs.operators import Operator \n",
    "\n",
    "n_tau_inch = 100\n",
    "u_exact = make_ED_propagator(ad_tot, ad_imp, ad_bath, beta, n_tau_inch)\n",
    "tau_mesh = u_exact['0'].mesh\n",
    "\n",
    "u_bare = make_ED_propagator(ad_imp, ad_imp, AtomDiag(Operator(), []), beta, n_tau_inch)"
   ]
  },
  {
   "cell_type": "code",
   "execution_count": 5,
   "metadata": {},
   "outputs": [],
   "source": [
    "with HDFArchive('results/inchworm.h5', 'r') as arch:\n",
    "    u_inch = arch['Solver_Info']['solver'].u_tau"
   ]
  },
  {
   "cell_type": "code",
   "execution_count": 6,
   "metadata": {
    "run_control": {
     "marked": false
    }
   },
   "outputs": [],
   "source": [
    "def get_frame(u, tau):\n",
    "    return np.array([u[bl][tau] for bl in u.indices], dtype=object)\n",
    "\n",
    "def norm(frame):\n",
    "    #return max(np.linalg.norm(frame_bl) for frame_bl in frame)\n",
    "    flat = np.concatenate([frame_bl.flatten() for frame_bl in frame])\n",
    "    return np.linalg.norm(flat)\n",
    "\n",
    "u_exact_norm = np.array([norm(get_frame(u_exact, tau)) for tau in tau_mesh])\n",
    "u_inch_norm = np.array([norm(get_frame(u_inch, tau)) for tau in tau_mesh])\n",
    "u_bare_norm = np.array([norm(get_frame(u_bare, tau)) for tau in tau_mesh])\n",
    "u_diff_norm = np.array([norm(get_frame(u_inch - u_exact, tau)) for tau in tau_mesh])"
   ]
  },
  {
   "cell_type": "code",
   "execution_count": 7,
   "metadata": {},
   "outputs": [
    {
     "data": {
      "image/png": "[encoded data removed]",
      "text/plain": [
       "<Figure size 1152x360 with 3 Axes>"
      ]
     },
     "metadata": {
      "needs_background": "light"
     },
     "output_type": "display_data"
    }
   ],
   "source": [
    "plt.subplots(1, 3, figsize=(16,5))\n",
    "\n",
    "plt.subplot(1, 3, 1)\n",
    "plt.plot(u_exact_norm)\n",
    "plt.title(r'$|u_{\\rm exact}|$')\n",
    "plt.xlabel('tau index')\n",
    "plt.yscale('log')\n",
    "\n",
    "plt.subplot(1, 3, 2)\n",
    "plt.plot(u_inch_norm)\n",
    "plt.title(r'$|u_{\\rm inch}|$')\n",
    "plt.xlabel('tau index')\n",
    "plt.yscale('log')\n",
    "\n",
    "plt.subplot(1, 3, 3)\n",
    "plt.plot(u_bare_norm)\n",
    "plt.title(r'$|u_{\\rm bare}|$')\n",
    "plt.xlabel('tau index')\n",
    "plt.yscale('log')"
   ]
  },
  {
   "cell_type": "code",
   "execution_count": 8,
   "metadata": {},
   "outputs": [
    {
     "data": {
      "text/plain": [
       "Text(0.5, 0, 'tau index')"
      ]
     },
     "execution_count": 8,
     "metadata": {},
     "output_type": "execute_result"
    },
    {
     "data": {
      "image/png": "[encoded data removed]",
      "text/plain": [
       "<Figure size 1152x504 with 2 Axes>"
      ]
     },
     "metadata": {
      "needs_background": "light"
     },
     "output_type": "display_data"
    }
   ],
   "source": [
    "plt.subplots(1, 2, figsize=(16,7))\n",
    "\n",
    "plt.subplot(1, 2, 1)\n",
    "plt.plot(np.abs(u_exact_norm - u_inch_norm) / np.maximum(u_exact_norm, u_inch_norm))\n",
    "#plt.plot(np.abs(u_exact_norm - u_inch_norm))\n",
    "#plt.yscale('log')\n",
    "plt.title(r'$\\frac{||u_{\\rm exact}| - |u_{\\rm inch}||}{max(|u_{\\rm exact}|, |u_{\\rm inch}|)}$')\n",
    "plt.xlabel('tau index')\n",
    "\n",
    "plt.subplot(1, 2, 2)\n",
    "plt.plot(u_diff_norm / np.maximum(u_exact_norm, u_inch_norm))\n",
    "#plt.plot(u_diff_norm)\n",
    "#plt.yscale('log')\n",
    "plt.title(r'$\\frac{|u_{\\rm exact} - u_{\\rm inch}|}{max(|u_{\\rm exact}|, |u_{\\rm inch}|)}$')\n",
    "plt.xlabel('tau index')"
   ]
  },
  {
   "cell_type": "code",
   "execution_count": 9,
   "metadata": {},
   "outputs": [
    {
     "name": "stdout",
     "output_type": "stream",
     "text": [
      "[4.85004e-01 3.07790e-01 1.44834e-01 4.57000e-02 1.28140e-02 3.03000e-03\n",
      " 7.90000e-04 2.60000e-05 1.20000e-05 0.00000e+00]\n"
     ]
    }
   ],
   "source": [
    "from inchworm import *\n",
    "start_redirect()\n",
    "\n",
    "from h5 import HDFArchive\n",
    "\n",
    "with HDFArchive('results/inchworm.h5', 'r') as arch:\n",
    "    S = arch['Solver_Info']['solver']\n",
    "    \n",
    "cp = S.constr_params\n",
    "\n",
    "sp = S.last_solve_params\n",
    "sp['verbosity'] = 4\n",
    "sp['measure_order_histogram'] = True\n",
    "sp['n_cycles'] = 500000\n",
    "\n",
    "u_exact = make_ED_propagator(ad_tot, ad_imp, ad_bath, beta, cp['n_tau_inch'])\n",
    "qmc_res = S.solve_self_consistently(sp, u_exact, 0.9 * cp['beta'], cp['beta'])\n",
    "\n",
    "print(qmc_res.order_histogram)"
   ]
  },
  {
   "cell_type": "code",
   "execution_count": 10,
   "metadata": {},
   "outputs": [
    {
     "name": "stdout",
     "output_type": "stream",
     "text": [
      "[4.85004e-01 3.07790e-01 1.44834e-01 4.57000e-02 1.28140e-02 3.03000e-03\n",
      " 7.90000e-04 2.60000e-05 1.20000e-05 0.00000e+00]\n"
     ]
    }
   ],
   "source": [
    "#print(qmc_res.frame_0th_order)\n",
    "print(qmc_res.order_histogram)"
   ]
  },
  {
   "cell_type": "code",
   "execution_count": 11,
   "metadata": {},
   "outputs": [
    {
     "name": "stdout",
     "output_type": "stream",
     "text": [
      "[array([[285598.90085349]])\n",
      " array([[ 34291.03637703,  41501.08386822],\n",
      "       [ 44098.84034807, 669164.3772832 ]])\n",
      " array([[ 34243.37560816,  47297.67823083],\n",
      "       [ 44054.4421948 , 662285.06131352]])\n",
      " array([[38653.43246242]])\n",
      " array([[44310.05247497, -5392.5593664 ,  -403.13213133,  -714.63896409],\n",
      "       [-4622.83129078, 41066.03567679,  3917.11071243, 12648.40517997],\n",
      "       [  -95.79758531,  5003.83236296,  3224.63414848,  1334.26918617],\n",
      "       [ 1683.98675494, 11234.15278129,  1119.22587544,  3717.2250626 ]])\n",
      " array([[44569.10219006]])\n",
      " array([[1915.97456784,  498.80555442],\n",
      "       [ 601.9938428 ,  195.54128803]])\n",
      " array([[1690.63644552,  337.64768204],\n",
      "       [ 412.69423447,  102.80185661]])\n",
      " array([[0.00260518]])]\n"
     ]
    }
   ],
   "source": [
    "print(qmc_res.frame)"
   ]
  },
  {
   "cell_type": "code",
   "execution_count": 12,
   "metadata": {},
   "outputs": [
    {
     "name": "stdout",
     "output_type": "stream",
     "text": [
      "[array([[303503.95823245]])\n",
      " array([[ 33556.44405155,  45153.89588628],\n",
      "       [ 45153.89588628, 666571.43007595]])\n",
      " array([[ 33556.44405155,  45153.89588627],\n",
      "       [ 45153.89588627, 666571.43007592]])\n",
      " array([[39525.06410828]])\n",
      " array([[ 3.95250641e+04, -7.71251507e-10, -6.98037184e-11,\n",
      "        -3.19232640e-10],\n",
      "       [-7.71251507e-10,  3.60591138e+04,  3.79580023e+03,\n",
      "         1.39304503e+04],\n",
      "       [-7.00310920e-11,  3.79580023e+03,  2.23523330e+03,\n",
      "         1.31584549e+03],\n",
      "       [-3.18323146e-10,  1.39304503e+04,  1.31584549e+03,\n",
      "         5.39405163e+03]])\n",
      " array([[39525.06410828]])\n",
      " array([[1456.31444287,  415.03288267],\n",
      "       [ 415.03288267,  118.28155524]])\n",
      " array([[1456.31444287,  415.03288267],\n",
      "       [ 415.03288267,  118.28155524]])\n",
      " array([[4.90237781e-05]])]\n"
     ]
    }
   ],
   "source": [
    "u_frame_exact = get_frame(u_exact, Idx(cp['n_tau_inch'] - 1))\n",
    "print(u_frame_exact)"
   ]
  },
  {
   "cell_type": "code",
   "execution_count": 13,
   "metadata": {},
   "outputs": [
    {
     "ename": "NameError",
     "evalue": "name 'frobenius_norm' is not defined",
     "output_type": "error",
     "traceback": [
      "\u001b[0;31m---------------------------------------------------------------------------\u001b[0m",
      "\u001b[0;31mNameError\u001b[0m                                 Traceback (most recent call last)",
      "\u001b[0;32m<ipython-input-13-a52b8301b74a>\u001b[0m in \u001b[0;36m<module>\u001b[0;34m\u001b[0m\n\u001b[0;32m----> 1\u001b[0;31m \u001b[0mprint\u001b[0m\u001b[0;34m(\u001b[0m\u001b[0;34m[\u001b[0m\u001b[0mfrobenius_norm\u001b[0m\u001b[0;34m(\u001b[0m\u001b[0mu_bl\u001b[0m\u001b[0;34m)\u001b[0m \u001b[0;34m/\u001b[0m \u001b[0mfrobenius_norm\u001b[0m\u001b[0;34m(\u001b[0m\u001b[0mu_bl\u001b[0m\u001b[0;34m)\u001b[0m\u001b[0;34m]\u001b[0m\u001b[0;34m)\u001b[0m\u001b[0;34m\u001b[0m\u001b[0;34m\u001b[0m\u001b[0m\n\u001b[0m",
      "\u001b[0;31mNameError\u001b[0m: name 'frobenius_norm' is not defined"
     ]
    }
   ],
   "source": [
    "print([frobenius_norm(u_bl) / frobenius_norm(u_bl)])"
   ]
  }
 ],
 "metadata": {
  "kernelspec": {
   "display_name": "Python 3",
   "language": "python",
   "name": "python3"
  },
  "language_info": {
   "codemirror_mode": {
    "name": "ipython",
    "version": 3
   },
   "file_extension": ".py",
   "mimetype": "text/x-python",
   "name": "python",
   "nbconvert_exporter": "python",
   "pygments_lexer": "ipython3",
   "version": "3.9.0"
  },
  "latex_envs": {
   "LaTeX_envs_menu_present": true,
   "autocomplete": true,
   "bibliofile": "biblio.bib",
   "cite_by": "apalike",
   "current_citInitial": 1,
   "eqLabelWithNumbers": true,
   "eqNumInitial": 1,
   "hotkeys": {
    "equation": "Ctrl-E",
    "itemize": "Ctrl-I"
   },
   "labels_anchors": false,
   "latex_user_defs": false,
   "report_style_numbering": false,
   "user_envs_cfg": false
  }
 },
 "nbformat": 4,
 "nbformat_minor": 2
}
