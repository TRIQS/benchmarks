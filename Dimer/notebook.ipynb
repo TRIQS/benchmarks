{
 "cells": [
  {
   "cell_type": "markdown",
   "metadata": {
    "deletable": true,
    "editable": true,
    "run_control": {
     "frozen": false,
     "read_only": false
    }
   },
   "source": [
    "Dimer with Kanamori interaction\n",
    "=======\n",
    "\n",
    "We calculate the Green function of a dimer coupled with Kanamori interaction and a coupling to discrete bath states.\n",
    "\n",
    "The non-interacting hamiltonian is most conveniently expressed using a matrix representation\n",
    "\n",
    "$$\n",
    "\\hat{h} =\n",
    "\\begin{pmatrix}\n",
    "\\hat{h}_{0} & \\hat{h}_{\\rm coup} \\\\\n",
    "\\hat{h}_{\\rm coup} & \\hat{h}_{\\rm bath}  \\\\\n",
    "\\end{pmatrix}=\n",
    "\\begin{pmatrix}\n",
    "\\begin{pmatrix}\n",
    "\\epsilon_0 -\\mu & -t \\\\\n",
    "-t & \\epsilon_1 -\\mu\n",
    "\\end{pmatrix} & \n",
    "\\begin{pmatrix}\n",
    "1 & 0 \\\\\n",
    "0 & 1\n",
    "\\end{pmatrix}\n",
    "\\\\\n",
    "\\begin{pmatrix}\n",
    "1 & 0 \\\\\n",
    "0 & 1\n",
    "\\end{pmatrix} & \n",
    "\\begin{pmatrix}\n",
    "\\epsilon_{0,{\\rm bath}} & -t_{\\rm bath} \\\\\n",
    "-t_{\\rm bath} & \\epsilon_{1,{\\rm bath}}\n",
    "\\end{pmatrix}\n",
    "\\end{pmatrix}\n",
    "$$\n",
    "\n",
    "The impurity interaction is of the Kanamori-type, and reads (impurity sites denoted by \\{0,1\\})\n",
    "\n",
    "$$h_{\\rm int} = \\sum_{i,j} U n_{\\uparrow,i} n_{\\downarrow,j} + \\sum_{\\sigma,i\\neq j} U' n_{\\sigma,i} n_{\\sigma,j}\n",
    "            - \\sum_{i \\neq j} J c^\\dagger_{i \\uparrow} c_{i \\downarrow} c^\\dagger_{j \\downarrow} c_{j \\uparrow}\n",
    "            + \\sum_{i \\neq j} J c^\\dagger_{i \\uparrow} c^\\dagger_{i \\downarrow} c_{j \\downarrow} c_{j \\uparrow}$$\n",
    "   \n",
    "The parameters are defined below."
   ]
  },
  {
   "cell_type": "code",
   "execution_count": null,
   "metadata": {
    "collapsed": false,
    "deletable": true,
    "editable": true,
    "run_control": {
     "frozen": false,
     "read_only": false
    }
   },
   "outputs": [],
   "source": [
    "# %load model.py\n",
    "import sys, os\n",
    "sys.path.append(os.getcwd() + '/../common')\n",
    "from util import *\n",
    "\n",
    "from pytriqs.gf import Gf, MeshImFreq, iOmega_n, inverse\n",
    "from pytriqs.operators import c, c_dag, n\n",
    "from pytriqs.operators.util.hamiltonians import h_int_kanamori\n",
    "from itertools import product\n",
    "from numpy import matrix, array, diag\n",
    "\n",
    "# ==== System Parameters ====\n",
    "beta = 5.                       # Inverse temperature\n",
    "mu = 0.25                       # Chemical potential\n",
    "eps = array([0.0, 0.1])         # Impurity site energies\n",
    "t = 1.                          # Hopping between impurity sites\n",
    "\n",
    "eps_bath = array([0.2, 0.15])   # Bath site energies\n",
    "t_bath = 0.1                    # Hopping between bath sites\n",
    "\n",
    "U = 1.                          # Density-density interaction for opposite spins\n",
    "Up = 0.3                        # Density-density interaction for equal spins\n",
    "J = 0.5                         # Hunds coupling\n",
    "\n",
    "spin_names = ['up', 'dn']\n",
    "orb_names  = [0, 1]\n",
    "\n",
    "# Non-interacting impurity hamiltonian in matrix representation\n",
    "h_0_mat = diag(eps - mu) - matrix([[0, t],\n",
    "                                   [t, 0]])\n",
    "\n",
    "# Bath hamiltonian in matrix representation\n",
    "h_bath_mat = diag(eps_bath) - matrix([[0, t_bath],\n",
    "                                      [t_bath, 0]])\n",
    "\n",
    "# Coupling matrix\n",
    "V_mat = matrix([[1., 0.],\n",
    "                [0., 1.]])\n",
    "\n",
    "# ==== Local Hamiltonian ====\n",
    "c_dag_vec = { s: matrix([[c_dag(s,o) for o in orb_names]]) for s in spin_names }\n",
    "c_vec =     { s: matrix([[c(s,o)] for o in orb_names]) for s in spin_names }\n",
    "\n",
    "h_0 = sum(c_dag_vec[s] * h_0_mat * c_vec[s] for s in spin_names)[0,0]\n",
    "\n",
    "h_int = h_int_kanamori(spin_names, orb_names,\n",
    "                        array([[0,Up-3*J],[Up-3*J,0]]), # Interaction for equal spins\n",
    "                        array([[U,U-2*J],[U-2*J,U]]),   # Interaction for opposite spins\n",
    "                        J,True)\n",
    "\n",
    "h_loc = h_0 + h_int\n",
    "\n",
    "# ==== Bath & Coupling hamiltonian ====\n",
    "orb_bath_names = ['b_' + str(o) for o in orb_names]\n",
    "c_dag_bath_vec = { s: matrix([[c_dag(s, o) for o in orb_bath_names]]) for s in spin_names }\n",
    "c_bath_vec =     { s: matrix([[c(s, o)] for o in orb_bath_names]) for s in spin_names }\n",
    "\n",
    "h_bath = sum(c_dag_bath_vec[s] * h_bath_mat * c_bath_vec[s] for s in spin_names)[0,0]\n",
    "h_coup = sum(c_dag_vec[s] * V_mat * c_bath_vec[s] + c_dag_bath_vec[s] * V_mat * c_vec[s] for s in spin_names)[0,0] # FIXME Adjoint\n",
    "\n",
    "# ==== Total impurity hamiltonian ====\n",
    "h_imp = h_loc + h_coup + h_bath\n",
    "\n",
    "# ==== Green function structure ====\n",
    "gf_struct = [ [s, orb_names] for s in spin_names ]\n",
    "\n",
    "# ==== Hybridization Function ====\n",
    "n_iw = 10\n",
    "iw_mesh = MeshImFreq(beta, 'Fermion', n_iw)\n",
    "Delta = BlockGf_from_struct(mesh=iw_mesh, struct=gf_struct)\n",
    "Delta << inverse(iOmega_n - V_mat * h_bath_mat * V_mat);\n",
    "\n",
    "# ==== Non-Interacting Impurity Green function  ====\n",
    "G0_iw = Delta.copy()\n",
    "G0_iw['up'] << inverse(iOmega_n - h_0_mat - Delta['up']) # FIXME Should work for BlockGf\n",
    "G0_iw['dn'] << inverse(iOmega_n - h_0_mat - Delta['dn'])\n"
   ]
  },
  {
   "cell_type": "markdown",
   "metadata": {
    "deletable": true,
    "editable": true,
    "run_control": {
     "frozen": false,
     "read_only": false
    }
   },
   "source": [
    "Results\n",
    "===="
   ]
  },
  {
   "cell_type": "code",
   "execution_count": null,
   "metadata": {
    "collapsed": true,
    "deletable": true,
    "editable": true,
    "run_control": {
     "frozen": false,
     "read_only": false
    }
   },
   "outputs": [],
   "source": [
    "from pytriqs.plot.mpl_interface import oplot, plt\n",
    "%matplotlib inline"
   ]
  },
  {
   "cell_type": "code",
   "execution_count": null,
   "metadata": {
    "collapsed": false,
    "deletable": true,
    "editable": true,
    "run_control": {
     "frozen": false,
     "read_only": false
    }
   },
   "outputs": [],
   "source": [
    "# %load ../common/plot.py\n",
    "import sys, os\n",
    "sys.path.append(os.getcwd() + \"/..\")\n",
    "sys.path.append(os.getcwd() + \"/../../common\")\n",
    "from model import *\n",
    "\n",
    "from pytriqs.archive import HDFArchive\n",
    "from pytriqs.plot.mpl_interface import oplot, plt\n",
    "from glob import glob\n",
    "from os.path import basename\n",
    "\n",
    "# === Load Green function for every solver and calculate self-energy\n",
    "\n",
    "solver_lst = [ basename(f).strip('.h5') for f in glob('results/*.h5') ]\n",
    "G, Sigma = {}, {}\n",
    "\n",
    "for solver in solver_lst:\n",
    "    dat = HDFArchive('results/' + solver + '.h5','r')\n",
    "    G[solver] = dat['G']\n",
    "    Sigma[solver] = G0_iw.copy()\n",
    "    Sigma[solver] << inverse(G0_iw) - inverse(G[solver])\n",
    "\n",
    "# === For every block and solver, plot Green function and Self energy\n",
    "\n",
    "block_lst = list(G[solver_lst[0]].indices)\n",
    "n_blocks = len(block_lst)\n",
    "\n",
    "for g, name in [[G, 'G'], [Sigma, '$\\Sigma$']]:\n",
    "\n",
    "    plt.subplots(n_blocks,1,figsize=(10,6*n_blocks))\n",
    "\n",
    "    for i, block in enumerate(block_lst,1):\n",
    "        fig = plt.subplot(n_blocks,1,i)\n",
    "        fig.set_title(name + \"[\" + block + \"]\")\n",
    "        for solver in solver_lst:\n",
    "            oplot(g[solver][block], name = name + \"_%s\" % solver)\n",
    "        plt.xlabel(\"$\\omega_n$\")\n",
    "        plt.ylabel(name + \"[\" + block + \"]$(i\\omega_n)$\")\n",
    "\n",
    "    plt.tight_layout()\n",
    "    plt.show()\n"
   ]
  },
  {
   "cell_type": "markdown",
   "metadata": {
    "deletable": true,
    "editable": true,
    "run_control": {
     "frozen": false,
     "read_only": false
    }
   },
   "source": [
    "Deviations\n",
    "======\n",
    "\n",
    "We present a table containing deviations between the different solvers measured via\n",
    "\n",
    "$$||G_{\\rm Solver_1} - G_{\\rm Solver_2}||_\\infty$$"
   ]
  },
  {
   "cell_type": "code",
   "execution_count": null,
   "metadata": {
    "collapsed": false,
    "deletable": true,
    "editable": true,
    "run_control": {
     "frozen": false,
     "read_only": false
    }
   },
   "outputs": [],
   "source": [
    "import numpy as np\n",
    "\n",
    "for block in block_lst:\n",
    "    deviations = [[ np.amax(np.abs(G[s1][block].data - G[s2][block].data)) for s1 in solver_lst ] \\\n",
    "                    for s2 in solver_lst ]\n",
    "    \n",
    "    print \"\\t\\t    Deviations for Block \" + block\n",
    "    print \"\\t\\t -----------------------------------\"\n",
    "\n",
    "    row_format =\"{:>15}\" * (len(solver_lst) + 1)\n",
    "    print row_format.format(\"\", *solver_lst)\n",
    "    row_format =\"{:>15}\" + \"{:>15.2E}\" * len(solver_lst)\n",
    "    for solver, row in zip(solver_lst, deviations):\n",
    "        print row_format.format(solver, *row)\n",
    "        \n",
    "    print \"\\n\\n\""
   ]
  }
 ],
 "metadata": {
  "kernelspec": {
   "display_name": "Python 2",
   "language": "python",
   "name": "python2"
  },
  "language_info": {
   "codemirror_mode": {
    "name": "ipython",
    "version": 2
   },
   "file_extension": ".py",
   "mimetype": "text/x-python",
   "name": "python",
   "nbconvert_exporter": "python",
   "pygments_lexer": "ipython2",
   "version": "2.7.14"
  },
  "latex_envs": {
   "LaTeX_envs_menu_present": true,
   "autocomplete": true,
   "bibliofile": "biblio.bib",
   "cite_by": "apalike",
   "current_citInitial": 1,
   "eqLabelWithNumbers": true,
   "eqNumInitial": 1,
   "hotkeys": {
    "equation": "Ctrl-E",
    "itemize": "Ctrl-I"
   },
   "labels_anchors": false,
   "latex_user_defs": false,
   "report_style_numbering": false,
   "user_envs_cfg": false
  }
 },
 "nbformat": 4,
 "nbformat_minor": 2
}
